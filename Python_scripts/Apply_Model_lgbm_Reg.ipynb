{
 "cells": [
  {
   "cell_type": "code",
   "execution_count": null,
   "metadata": {},
   "outputs": [],
   "source": [
    "import pandas as pd\n",
    "import lightgbm as lgbm\n",
    "\n",
    "def rm_main(model, data):\n",
    "    \n",
    "    cols = [col for col in data.columns if col not in ['fare_amount']]\n",
    "    X = data[cols]\n",
    "    data['prediction'] = model.predict(X)\n",
    "\n",
    "    #set role of prediction attribute to prediction\n",
    "    data.rm_metadata['prediction']=('real','prediction')\n",
    "    data.rm_metadata['fare_amount']=('real','label')\n",
    "    \n",
    "    return data"
   ]
  }
 ],
 "metadata": {
  "kernelspec": {
   "display_name": "Python 3",
   "language": "python",
   "name": "python3"
  },
  "language_info": {
   "codemirror_mode": {
    "name": "ipython",
    "version": 3
   },
   "file_extension": ".py",
   "mimetype": "text/x-python",
   "name": "python",
   "nbconvert_exporter": "python",
   "pygments_lexer": "ipython3",
   "version": "3.7.4"
  }
 },
 "nbformat": 4,
 "nbformat_minor": 2
}
