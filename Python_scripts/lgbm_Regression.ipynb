{
 "cells": [
  {
   "cell_type": "code",
   "execution_count": null,
   "metadata": {},
   "outputs": [],
   "source": [
    "import pandas as pd\n",
    "import lightgbm as lgbm\n",
    "\n",
    "def rm_main(data):\n",
    "    \n",
    "    params = {'boosting_type':'gbdt',\n",
    "          'objective': 'regression',\n",
    "          'nthread': 4,\n",
    "          'num_leaves': 31,\n",
    "          'learning_rate': 0.034,\n",
    "          'max_depth': -1,\n",
    "          'subsample': 0.8,\n",
    "          'bagging_fraction' : 1,\n",
    "          'max_bin' : 5000 ,\n",
    "          'bagging_freq': 20,\n",
    "          'colsample_bytree': 0.6,\n",
    "          'metric': 'rmse',      # rmse: root meam square error\n",
    "          'min_split_gain': 0.5,\n",
    "          'min_child_weight': 1,\n",
    "          'min_child_samples': 10,\n",
    "          'scale_pos_weight':1,\n",
    "          'zero_as_missing': True,\n",
    "          'seed':128, # 0 から変更\n",
    "          'num_rounds':50000}\n",
    "    \n",
    "    cols = [col for col in data.columns if col not in ['fare_amount']]\n",
    "    X = data[cols]\n",
    "    y = data[\"fare_amount\"]\n",
    "    \n",
    "    train_set = lgbm.Dataset(X, y, silent=False)\n",
    "    model = lgbm.train(params, train_set = train_set, num_boost_round=500, verbose_eval=500)\n",
    "    \n",
    "    return model"
   ]
  }
 ],
 "metadata": {
  "kernelspec": {
   "display_name": "Python 3",
   "language": "python",
   "name": "python3"
  },
  "language_info": {
   "codemirror_mode": {
    "name": "ipython",
    "version": 3
   },
   "file_extension": ".py",
   "mimetype": "text/x-python",
   "name": "python",
   "nbconvert_exporter": "python",
   "pygments_lexer": "ipython3",
   "version": "3.7.4"
  }
 },
 "nbformat": 4,
 "nbformat_minor": 2
}
