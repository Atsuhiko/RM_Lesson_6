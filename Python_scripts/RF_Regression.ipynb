{
 "cells": [
  {
   "cell_type": "code",
   "execution_count": null,
   "metadata": {},
   "outputs": [],
   "source": [
    "import pandas as pd\n",
    "from sklearn.ensemble import RandomForestRegressor\n",
    "\n",
    "def rm_main(data):\n",
    "    \n",
    "    cols = [col for col in data.columns if col not in ['fare_amount']]\n",
    "    X = data[cols]\n",
    "    y = data[\"fare_amount\"]\n",
    "    \n",
    "    model = RandomForestRegressor(n_estimators=43,max_depth=13)\n",
    "    model.fit(X, y)   # Train model\n",
    "    \n",
    "    return model"
   ]
  }
 ],
 "metadata": {
  "kernelspec": {
   "display_name": "Python 3",
   "language": "python",
   "name": "python3"
  },
  "language_info": {
   "codemirror_mode": {
    "name": "ipython",
    "version": 3
   },
   "file_extension": ".py",
   "mimetype": "text/x-python",
   "name": "python",
   "nbconvert_exporter": "python",
   "pygments_lexer": "ipython3",
   "version": "3.7.4"
  }
 },
 "nbformat": 4,
 "nbformat_minor": 2
}
